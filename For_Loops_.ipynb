{
  "cells": [
    {
      "cell_type": "markdown",
      "metadata": {
        "id": "view-in-github",
        "colab_type": "text"
      },
      "source": [
        "<a href=\"https://colab.research.google.com/github/olarewae-23/python_project/blob/main/For_Loops_.ipynb\" target=\"_parent\"><img src=\"https://colab.research.google.com/assets/colab-badge.svg\" alt=\"Open In Colab\"/></a>"
      ]
    },
    {
      "cell_type": "code",
      "source": [
        "def fun(n): # takes an integer parameter n, which represents the upper limit for the numbers you want to sum (exclusive, meaning the sum includes numbers smaller than n but not n itself\n",
        "  sum = 0 # variable used to accumulate the sum of the numbers.\n",
        "  for i in range(0,n): #for loop: iterates through a range of numbers from 0 to n-1. This is done using the range(0, n)\n",
        "    sum+=i #in each iteration of the loop, the current value of 'i' is added to the 'sum' variable using 'sum+=i'\n",
        "  return sum\n",
        "result = fun(5)\n",
        "print (result)"
      ],
      "metadata": {
        "colab": {
          "base_uri": "https://localhost:8080/"
        },
        "id": "gB431jtZ7FKe",
        "outputId": "e2fa6390-3786-4b40-c582-de40a3570a01"
      },
      "execution_count": null,
      "outputs": [
        {
          "output_type": "stream",
          "name": "stdout",
          "text": [
            "10\n"
          ]
        }
      ]
    },
    {
      "cell_type": "markdown",
      "source": [
        "**Learning Source:** https://www.linkedin.com/learning/learning-python-14393370/loops?resume=false&u=36299332"
      ],
      "metadata": {
        "id": "SlUZk7RVQqXe"
      }
    },
    {
      "cell_type": "code",
      "source": [
        "#\n",
        "# Example file for working with loops\n",
        "# LinkedIn Learning Python course by Joe Marini\n",
        "#\n",
        "\n",
        "\n",
        "def main():\n",
        "    x = 0 ##start a 0\n",
        "\n",
        "    # TODO: define a while loop\n",
        "    # while(x <5): ##limit is 5 (exclusive)\n",
        "    #   print (x)\n",
        "      # x= x + 1 #increments x by number specified: 1 goes up in 1's, 2' goes up in 2's etc\n",
        "      #x= x + 2 gives 0 2 4\n",
        "      #x= x + 3 gives, 0 3\n",
        "      #x= x + 5 gives '0' since the loop terminates at '<5' but 0 is still ouputted since it starts at '0'\n",
        "\n",
        "    # TODO: define a for loop\n",
        "    # for x in range (5, 10): # starts at 5, ends at n-1 where n is 10 hence stops at 9\n",
        "    #   print(x)\n",
        "      #output is 5 6 7 8 9\n",
        "\n",
        "    # TODO: use a for loop over a collection\n",
        "    # days = [\"Mon\",\"Tue\",\"Wed\",\"Thu\",\"Fri\",\"Sat\",\"Sun\"] # brackets produce a list of strings for day names\n",
        "    # for d in days:\n",
        "    #   print(d)\n",
        "    #   #output is mon tue wed thu fri ...\n",
        "\n",
        "\n",
        "    # TODO: use the break and continue statements - #break' is used to break the execution of a loop if a condition is met\n",
        "    # for x in range (5, 10):\n",
        "    #     if x == 7: # if x is equal to 7 then break the execution of the loop\n",
        "    #       break\n",
        "    #     print(x)\n",
        "        #output is 5,6 .. once it reaches 7 it applys n-1 therfore does not print 7, 8 or 9\n",
        "\n",
        "    # TODO: use the continue statements\n",
        "    # for x in range (5, 10):\n",
        "    #     if x % 2 == 0:\n",
        "    #       # if statement - produces only even numbers as it analyses the '%' expression\n",
        "    #       #which means the division will not have a remainder so, it skips evens\n",
        "    #       # and only outputs odds i.e if x = 6 the output is give 3 without a remainder. which satisfies\n",
        "    #       continue\n",
        "    #       print(x)\n",
        "\n",
        "    # TODO: using the enumerate() function to get index\n",
        "    days = [\"Mon\",\"Tue\",\"Wed\",\"Thu\",\"Fri\",\"Sat\",\"Sun\"] # brackets produce a list of strings for day names\n",
        "    for i,d in enumerate (days):\n",
        "      # 'i,d' is a tuple of values. In this case two values\n",
        "      # i is the numrical index (the number associated with each of the items in the list 'days')\n",
        "       print (i,d)\n",
        "\n",
        "if __name__ == \"__main__\":\n",
        "    main()"
      ],
      "metadata": {
        "colab": {
          "base_uri": "https://localhost:8080/"
        },
        "id": "f-EhP-FJDZWJ",
        "outputId": "2264041a-a4be-4cf5-bc01-1291048002bc"
      },
      "execution_count": 30,
      "outputs": [
        {
          "output_type": "stream",
          "name": "stdout",
          "text": [
            "0 Mon\n",
            "1 Tue\n",
            "2 Wed\n",
            "3 Thu\n",
            "4 Fri\n",
            "5 Sat\n",
            "6 Sun\n"
          ]
        }
      ]
    }
  ],
  "metadata": {
    "colab": {
      "provenance": [],
      "authorship_tag": "ABX9TyNdfWI31BhgVvnBHU4Ntq4c",
      "include_colab_link": true
    },
    "kernelspec": {
      "display_name": "Python 3",
      "name": "python3"
    },
    "language_info": {
      "name": "python"
    }
  },
  "nbformat": 4,
  "nbformat_minor": 0
}